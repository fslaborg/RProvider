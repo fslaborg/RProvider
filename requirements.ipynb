
        {
            "cells": [
          {
           "cell_type": "markdown",
           "metadata": {},
           
           "source": ["// can\u0027t yet format YamlFrontmatter ([\"category: Documentation\"; \"categoryindex: 1\"; \"index: 1\"], Some { StartLine = 2 StartColumn = 0 EndLine = 5 EndColumn = 8 }) to pynb markdown\n",
"\n"]
          }
,
          {
           "cell_type": "code",
           "metadata": {},
            "execution_count": null, "outputs": [], 
           "source": ["#r \"nuget: RProvider,{{package-version}}\"\n"]
          }
,
          {
           "cell_type": "markdown",
           "metadata": {},
           
           "source": ["Requirements: Getting Started\n",
"=================================\n",
"\n",
"The R type provider can be used on macOS, Windows, and Linux (for supported OS versions,\n",
"see the [.NET 5 OS support matrix](https://github.com/dotnet/core/blob/main/release-notes/5.0/5.0-supported-os.md)).\n",
"\n",
"There are three **requirements** to use the R type provider:\n",
"\n",
"- [dotnet SDK](https://www.microsoft.com/net/download/core) 5.0 or greater; and\n",
"- [R statistical environment](http://cran.r-project.org/).\n",
"- A correctly set `R_HOME` environment variable (see below).\n",
"  You **must** set the `R_HOME` environment variable to the R home directory, \n",
"  which can usually be identified by running the command \u0027R RHOME\u0027. \n",
"\n",
"Note. If you require .NET framework / mono support, you should use RProvider 1.2 or earlier.\n",
"Support for .NET versions below 5.0 was dropped with RProvider 2.0.\n",
"\n",
"Setting the `R_HOME` environment variable\n",
"----------------------\n",
"The R type provider requires that the R_HOME environment variable is set, so that\n",
"it can find the R installation that you wish to use. \n",
"\n",
"#### macOS\n",
"In a Terminal window, execute the following command to add the R_HOME environment\n",
"variable permanently:\n",
"\n",
"    [lang=bash]\n",
"    echo export R_HOME=$(R RHOME) \u003e\u003e ~/.zshenv\n",
"\n",
"#### Linux\n",
"\n",
"You can set the R_HOME environment variable in your current session\n",
"using the command:\n",
"\n",
"    [lang=bash]\n",
"    export R_HOME=$(R RHOME)\n",
"\n",
"#### Windows\n",
"\n",
"On Windows, from a command prompt use the following command to set\n",
"the R_HOME permanently as a user environment variable, replacing C:\\rpath\\bin\n",
"with your R install location:\n",
"\n",
"    [lang=cmd]\n",
"    setx R_HOME \"C:\\rpath\\bin\"\n",
"\n",
"Testing the R provider\n",
"----------------------\n",
"\n",
"You can now start experimenting with the R type provider using your favourite editor,\n",
"or directly from the command line using\n",
"\n",
"    [lang=bash]\n",
"    dotnet fsi\n",
"\n",
"The easiest way to get started is to install Visual Studio Code, making sure to also install\n",
"the Ionide-fsharp extension within the Extensions tab.\n",
"\n",
"First, create a new file with the extension .fsx (e.g., test.fsx). Second, reference the\n",
"R type provider package from NuGet by adding this line to the start of your file:\n",
"\n",
"    [lang=fsharp]\n",
"    #r \"nuget: RProvider,2.0.2\"\n",
"\n",
"Third, add your code. In this code, we load RProvider, then load three R packages using\n",
"the `open` declarations (graphics, grDevices, and datasets).\n",
"\n"]
          }
,
          {
           "cell_type": "code",
           "metadata": {},
            "execution_count": null, "outputs": [], 
           "source": ["open RProvider\n",
"open RProvider.graphics\n",
"open RProvider.grDevices\n",
"open RProvider.datasets\n"]
          }
,
          {
           "cell_type": "markdown",
           "metadata": {},
           
           "source": ["Now we can run some calculations and create charts. When using R on Mac, the default graphics\n",
"device (Quartz) sometimes hangs, but X11 is working without issues, so the following uses X11:\n",
"\n"]
          }
,
          {
           "cell_type": "code",
           "metadata": {},
            "execution_count": null, "outputs": [], 
           "source": ["// basic test if RProvider works correctly\n",
"R.mean([1;2;3;4])\n",
"// val it : RDotNet.SymbolicExpression = [1] 2.5\n"]
          }
,
          {
           "cell_type": "code",
           "metadata": {},
            "execution_count": null, "outputs": [], 
           "source": ["// testing graphics\n",
"R.x11()\n"]
          }
,
          {
           "cell_type": "code",
           "metadata": {},
            "execution_count": null, "outputs": [], 
           "source": ["// Calculate sin using the R \u0027sin\u0027 function\n",
"// (converting results to \u0027float\u0027) and plot it\n",
"[ for x in 0.0 .. 0.1 .. 3.14 -\u003e \n",
"    R.sin(x).GetValue\u003cfloat\u003e() ]\n",
"|\u003e R.plot\n",
"\n",
"// Plot the data from the standard \u0027Nile\u0027 data set\n",
"R.plot(R.Nile)\n"]
          }
,
          {
           "cell_type": "markdown",
           "metadata": {},
           
           "source": ["Diagnostics and debugging\n",
"-------------------------\n",
"\n",
"If you encounter any issues, please do not hesitate to submit an issue! You can do that on the\n",
"[GitHub page](https://github.com/fslaborg/RProvider/issues). Before submitting\n",
"an issue, please see the [Diagnostics and debugging page](diagnostics.html), which tells you how\n",
"to create a log file with more detailed information about the issues.\n",
"\n"]
          }],
            "metadata": {
            "kernelspec": {"display_name": ".NET (F#)", "language": "F#", "name": ".net-fsharp"},
            "langauge_info": {
        "file_extension": ".fs",
        "mimetype": "text/x-fsharp",
        "name": "C#",
        "pygments_lexer": "fsharp",
        "version": "4.5"
        }
        },
            "nbformat": 4,
            "nbformat_minor": 1
        }
        

