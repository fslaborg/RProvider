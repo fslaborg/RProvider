
        {
            "cells": [
          {
           "cell_type": "markdown",
           "metadata": {},
           
           "source": ["// can\u0027t yet format YamlFrontmatter ([\"category: Documentation\"; \"categoryindex: 1\"; \"index: 4\"], Some { StartLine = 2 StartColumn = 0 EndLine = 5 EndColumn = 8 }) to pynb markdown\n",
"\n"]
          }
,
          {
           "cell_type": "code",
           "metadata": {},
            "execution_count": null, "outputs": [], 
           "source": ["#r \"nuget: RProvider,{{package-version}}\"\n"]
          }
,
          {
           "cell_type": "markdown",
           "metadata": {},
           
           "source": ["Working with R expressions\n",
"===============\n",
"\n",
"RProvider represents R objects and values through a `SymbolicExpression` type (derived from R.NET). RProvider includes a `SymbolicExpression` module that allows you to work with R expressions in a more idiomatic way using forward pipes (`|\u003e`). First, open RProvider, its custom operators and any packages you need:\n",
"\n"]
          }
,
          {
           "cell_type": "code",
           "metadata": {},
            "execution_count": null, "outputs": [], 
           "source": ["open RProvider\n",
"open RProvider.Operators\n",
"\n",
"open RProvider.``base``\n",
"open RProvider.datasets\n",
"open RProvider.stats\n"]
          }
,
          {
           "cell_type": "markdown",
           "metadata": {},
           
           "source": ["# S4 classes\n",
"\n",
"For this example, let\u0027s set up an S4 class and object from scratch:\n",
"\n"]
          }
,
          {
           "cell_type": "code",
           "metadata": {},
            "execution_count": null, "outputs": [], 
           "source": ["let x = R.rnorm(100)\n",
"x.Engine.Evaluate(\"setClass(\u0027testclass\u0027, representation(foo=\u0027character\u0027, bar=\u0027integer\u0027))\")\n",
"let s4 = x.Engine.Evaluate(\"new(\u0027testclass\u0027, foo=\u0027s4\u0027, bar=1:4)\")\n"]
          }
,
          {
           "cell_type": "markdown",
           "metadata": {},
           
           "source": ["You can find out if there are slots using the `slots` and `trySlots` functions:\n",
"\n"]
          }
,
          {
           "cell_type": "code",
           "metadata": {},
            "execution_count": null, "outputs": [], 
           "source": ["s4 |\u003e SymbolicExpression.slots\n",
"s4 |\u003e SymbolicExpression.trySlots\n",
"R.mtcars |\u003e SymbolicExpression.trySlots\n"]
          }
,
          {
           "cell_type": "markdown",
           "metadata": {},
           
           "source": ["You can access slot values similarly with the `slot` and `trySlot` functions:\n",
"\n"]
          }
,
          {
           "cell_type": "code",
           "metadata": {},
            "execution_count": null, "outputs": [], 
           "source": ["s4 |\u003e SymbolicExpression.slot \"foo\"\n",
"s4 |\u003e SymbolicExpression.trySlot \"foo\"\n",
"s4 |\u003e SymbolicExpression.trySlot \"doesntexist\"\n"]
          }],
            "metadata": {
            "kernelspec": {"display_name": ".NET (F#)", "language": "F#", "name": ".net-fsharp"},
            "langauge_info": {
        "file_extension": ".fs",
        "mimetype": "text/x-fsharp",
        "name": "C#",
        "pygments_lexer": "fsharp",
        "version": "4.5"
        }
        },
            "nbformat": 4,
            "nbformat_minor": 1
        }
        

