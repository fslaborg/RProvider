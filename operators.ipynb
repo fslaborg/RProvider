
        {
            "cells": [
          {
           "cell_type": "markdown",
           "metadata": {},
           
           "source": ["// can\u0027t yet format YamlFrontmatter ([\"category: Documentation\"; \"categoryindex: 1\"; \"index: 4\"], Some { StartLine = 2 StartColumn = 0 EndLine = 5 EndColumn = 8 }) to pynb markdown\n",
"\n"]
          }
,
          {
           "cell_type": "code",
           "metadata": {},
            "execution_count": null, "outputs": [], 
           "source": ["#r \"nuget: RProvider,{{package-version}}\"\n"]
          }
,
          {
           "cell_type": "markdown",
           "metadata": {},
           
           "source": ["Operators\n",
"===============\n",
"\n",
"RProvider includes the `RProvider.Operators` module, which contains custom operators that can make working with R easier. Make sure to open it alongside your packages:\n",
"\n"]
          }
,
          {
           "cell_type": "code",
           "metadata": {},
            "execution_count": null, "outputs": [], 
           "source": ["open RProvider\n",
"open RProvider.Operators\n",
"\n",
"open RProvider.``base``\n",
"open RProvider.datasets\n",
"open RProvider.stats\n"]
          }
,
          {
           "cell_type": "markdown",
           "metadata": {},
           
           "source": ["# Accessing members / slots\n",
"\n",
"You can use the dynamic (`?`) operator to access:\n",
"\n",
"* Slots in S4 objects\n",
"* Members of list types\n",
"\n",
"### List: accessing named columns in a dataframe.\n",
"\n",
"\n"]
          }
,
          {
           "cell_type": "code",
           "metadata": {},
            "execution_count": null, "outputs": [], 
           "source": ["R.mtcars?mpg\n"]
          }
,
          {
           "cell_type": "markdown",
           "metadata": {},
           
           "source": ["### S4 object: access a slot \n",
"\n"]
          }
,
          {
           "cell_type": "code",
           "metadata": {},
            "execution_count": null, "outputs": [], 
           "source": ["let x = R.rnorm(100)\n",
"x.Engine.Evaluate(\"setClass(\u0027testclass\u0027, representation(foo=\u0027character\u0027, bar=\u0027integer\u0027))\")\n",
"\n",
"let test = x.Engine.Evaluate(\"new(\u0027testclass\u0027, foo=\u0027s4\u0027, bar=1:4)\")\n",
"\n",
"test?foo\n"]
          }],
            "metadata": {
            "kernelspec": {"display_name": ".NET (F#)", "language": "F#", "name": ".net-fsharp"},
            "langauge_info": {
        "file_extension": ".fs",
        "mimetype": "text/x-fsharp",
        "name": "C#",
        "pygments_lexer": "fsharp",
        "version": "4.5"
        }
        },
            "nbformat": 4,
            "nbformat_minor": 1
        }
        

