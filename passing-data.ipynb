
        {
            "cells": [
          {
           "cell_type": "markdown",
           "metadata": {},
           
           "source": ["// can\u0027t yet format YamlFrontmatter ([\"category: Documentation\"; \"categoryindex: 1\"; \"index: 3\"], Some { StartLine = 2 StartColumn = 0 EndLine = 5 EndColumn = 8 }) to pynb markdown\n",
"\n"]
          }
,
          {
           "cell_type": "code",
           "metadata": {},
            "execution_count": null, "outputs": [], 
           "source": ["#r \"nuget: RProvider,{{package-version}}\"\n",
"\n",
"\n",
"open RDotNet\n",
"open RProvider\n"]
          }
,
          {
           "cell_type": "markdown",
           "metadata": {},
           
           "source": ["# Passing Data Between F# and R\n",
"\n",
"## Passing Parameters\n",
"\n",
"### Parameter Passing Conventions\n",
"\n",
"R supports various kinds of parameters, which we try to map onto equivalent F# parameter types:\n",
"\n",
" * All R formal parameters have names, and you can always pass their values either by name or positionally.  If you pass by name, you can skip arguments in your actual argument list.  We simply map these onto F# arguments, which you can also pass by name or positionally.\n",
"\n",
" * In R, essentially all arguments are optional (even if no default value is specified in the function argument list).  It\u0027s up to the receiving function to determine whether to error if the value is missing.   So we make all arguments optional.\n",
"\n",
" * R functions support ... (varargs/paramarray).  We map this onto a .NET ParamArray, which allows an arbitrary number of arguments to be passed.  However, there are a couple of kinks with this:\n",
"\n",
"    * R allows named arguments to appear _after_ the ... argument, whereas .NET requires the ParamArray argument to be at the end.  Some R functions use this convention because their primary arguments are passed in the ... argument and the named arguments will sometimes be used to modify the behavior of the function.  From the RProvider you will to supply values for the positional arguments before you can pass to the ... argument.  If you don\u0027t want to supply a value to one of these arguments, you can explicitly pass System.Reflection.Missing.\n",
"\n",
"    * Parameters passed to the R ... argument can also be passed using a name.  Those names are accessible to the calling function.  Example are list and dataframe construction (R.list, and R.data_frame).  To pass arguments this way, you can use the overload of each function that takes an IDictionary\u003cstring, obj\u003e, either directly, or using the namedParams function.  For example:\n",
"\n",
"        R.data_frame(namedParams [ \"A\", [|1;2;3|]; \"B\", [|4;5;6|] ])\n",
"\n",
"### Parameter Types\n",
"\n",
"Since all arguments to functions are of type obj, it is not necessarily obvious what you can pass.  Ultimately, you will need to know what the underlying function is expecting, but here is a table to help you.  When reading this, remember that for most types, R supports only vector types.  There are no scalar string, int, bool etc. types.\n",
"\n",
"\u003ctable class=\"table table-bordered table-striped\"\u003e\n",
"\u003ctr\u003e\u003cth\u003eR Type\u003c/th\u003e\u003cth\u003eF#/.NET Type\u003c/th\u003e\u003c/tr\u003e\n",
"\u003ctr\u003e\u003ctd\u003echaracter\u003c/td\u003e\u003ctd\u003estring or string[]\u003c/td\u003e\u003c/tr\u003e\n",
"\u003ctr\u003e\u003ctd\u003ecomplex\u003c/td\u003e\u003ctd\u003eSystem.Numerics.Complex or Complex[]\u003c/td\u003e\u003c/tr\u003e\n",
"\u003ctr\u003e\u003ctd\u003einteger\u003c/td\u003e\u003ctd\u003eint or int[]\u003c/td\u003e\u003c/tr\u003e\n",
"\u003ctr\u003e\u003ctd\u003elogical\u003c/td\u003e\u003ctd\u003ebool or bool[]\u003c/td\u003e\u003c/tr\u003e\n",
"\u003ctr\u003e\u003ctd\u003enumeric\u003c/td\u003e\u003ctd\u003edouble or double[]\u003c/td\u003e\u003c/tr\u003e\n",
"\u003ctr\u003e\u003ctd\u003elist\u003c/td\u003e\u003ctd\u003eCall R.list, passing the values as separate arguments\u003c/td\u003e\u003ctr\u003e\n",
"\u003ctr\u003e\u003ctd\u003edataframe\u003c/td\u003e\u003ctd\u003eCall R.data_frame, passing column vectors in a dictionary\u003c/td\u003e\u003ctr\u003e\n",
"\u003c/table\u003e\n",
"\n",
"**NB**: For any input, you can also pass a SymbolicExpression instance you received as the result of calling another R function.  Doing so it a very efficient way of passing data from one function to the next, since there is no marshalling between .NET and R types in that case.\n",
"\n",
"### Creating and passing an R function\n",
"R has some high-level functions (e.g. sapply) that require a function parameter. Although F# has first-class support of functional programming and provides better functionality and syntax for apply-like operations, which often makes it sub-optimal to call apply-like high-level functions in R, the need for parallel computing in R, which is not yet directly supported by F# parallelism to R functions, requires users to pass a function as parameter. Here is an example way to create and pass an R function:\n",
"\n"]
          }
,
          {
           "cell_type": "code",
           "metadata": {},
            "execution_count": null, "outputs": [], 
           "source": ["let fun1 = R.eval(R.parse(text=\"function(i) {mean(rnorm(i))}\"))\n",
"let nums = R.sapply(R.c(1,2,3),fun1)\n"]
          }
,
          {
           "cell_type": "markdown",
           "metadata": {},
           
           "source": ["The same usage also applies to parallel apply functions in parallel package.\n",
"\n",
"## Accessing results\n",
"\n",
"Functions exposed by the RProvider return an instance of `RDotNet.SymbolicExpression`.  This keeps all return data inside R data structures, so does not impose any data marshalling overhead.  If you want to pass the value in as an argument to another R function, you can simply do so.\n",
"\n",
"In order to access the result in .NET code, you have three routes:\n",
"\n",
"### Convert the data into a specified .NET type via GetValue\u003ctype\u003e()\n",
"\n",
"RProvider adds a generic `GetValue\u003c\u0027T\u003e` extension method to `SymbolicExpression`.  This supports conversions from certain R values to specific .NET types.  Here are the currently supported conversions:\n",
"\n",
"\u003ctable class=\"table table-bordered table-striped\"\u003e\n",
"\u003ctr\u003e\u003cth\u003eR Type\u003c/th\u003e\u003cth\u003eRequested F#/.NET Type\u003c/th\u003e\u003c/tr\u003e\n",
"\u003ctr\u003e\u003ctd\u003echaracter (when vector is length 1)\u003c/td\u003e\u003ctd\u003estring\u003c/td\u003e\u003c/tr\u003e\n",
"\u003ctr\u003e\u003ctd\u003echaracter\u003c/td\u003e\u003ctd\u003estring[]\u003c/td\u003e\u003c/tr\u003e\n",
"\u003ctr\u003e\u003ctd\u003ecomplex (when vector is length 1)\u003c/td\u003e\u003ctd\u003eComplex\u003c/td\u003e\u003c/tr\u003e\n",
"\u003ctr\u003e\u003ctd\u003ecomplex\u003c/td\u003e\u003ctd\u003eComplex[]\u003c/td\u003e\u003c/tr\u003e\n",
"\u003ctr\u003e\u003ctd\u003einteger (when vector is length 1)\u003c/td\u003e\u003ctd\u003eint\u003c/td\u003e\u003c/tr\u003e\n",
"\u003ctr\u003e\u003ctd\u003einteger\u003c/td\u003e\u003ctd\u003eint[]\u003c/td\u003e\u003c/tr\u003e\n",
"\u003ctr\u003e\u003ctd\u003elogical (when vector is length 1)\u003c/td\u003e\u003ctd\u003ebool\u003c/td\u003e\u003c/tr\u003e\n",
"\u003ctr\u003e\u003ctd\u003elogical\u003c/td\u003e\u003ctd\u003ebool[]\u003c/td\u003e\u003c/tr\u003e\n",
"\u003ctr\u003e\u003ctd\u003enumeric (when vector is length 1)\u003c/td\u003e\u003ctd\u003edouble\u003c/td\u003e\u003c/tr\u003e\n",
"\u003ctr\u003e\u003ctd\u003enumeric\u003c/td\u003e\u003ctd\u003edouble[]\u003c/td\u003e\u003c/tr\u003e\n",
"\u003c/table\u003e\n",
"\n",
"Custom conversions can be supported through [plugins](plugins.html).\n",
"\n",
"### Convert the data into the default .NET type the .Value property\n",
"\n",
"We also expose an extension property called Value that performs a _default_ conversion of a SymbolicExpresion to a .NET type.  These are the current conversions:\n",
"\n",
"\u003ctable class=\"table table-bordered table-striped\"\u003e\n",
"\u003ctr\u003e\u003cth\u003eR Type\u003c/th\u003e\u003cth\u003eF#/.NET Type\u003c/th\u003e\u003c/tr\u003e\n",
"\u003ctr\u003e\u003ctd\u003echaracter\u003c/td\u003e\u003ctd\u003estring[]\u003c/td\u003e\u003c/tr\u003e\n",
"\u003ctr\u003e\u003ctd\u003ecomplex\u003c/td\u003e\u003ctd\u003eComplex[]\u003c/td\u003e\u003c/tr\u003e\n",
"\u003ctr\u003e\u003ctd\u003einteger\u003c/td\u003e\u003ctd\u003eint[]\u003c/td\u003e\u003c/tr\u003e\n",
"\u003ctr\u003e\u003ctd\u003elogical\u003c/td\u003e\u003ctd\u003ebool[]\u003c/td\u003e\u003c/tr\u003e\n",
"\u003ctr\u003e\u003ctd\u003enumeric\u003c/td\u003e\u003ctd\u003edouble[]\u003c/td\u003e\u003c/tr\u003e\n",
"\u003c/table\u003e\n",
"\n",
"Again, custom conversions can be supported through [plugins](plugins.html).\n",
"\n",
"### Explicitly access the data in the SymbolicExpression\n",
"\n",
"If there are no supported conversions, you can access the data through the RDotNet object model.  RDotNet exposes properties, members and extension members (available only if you open the RDotNet namespace) that allow you to access the underlying data directly.  So, for example:\n",
"\n"]
          }
,
          {
           "cell_type": "code",
           "metadata": {},
            "execution_count": null, "outputs": [], 
           "source": ["let res = R.sum([|1;2;3;4|])\n",
"if res.Type = RDotNet.Internals.SymbolicExpressionType.IntegerVector then res.AsInteger().[0]\n",
"else failwithf \"Expecting a Numeric but got a %A\" res.Type\n"]
          }
,
          {
           "cell_type": "markdown",
           "metadata": {},
           
           "source": ["To make this easier, we have defined some active patterns, under the RProvider.Helpers namespace, which is auto-opened when you open the RProvider namespace.  These combine the type tests and conversion.  An equivalent example:\n",
"\n"]
          }
,
          {
           "cell_type": "code",
           "metadata": {},
            "execution_count": null, "outputs": [], 
           "source": ["match R.sum([|1;2;3;4|]) with \n",
"| IntegerVector(iv) -\u003e iv.[0]\n",
"| _                 -\u003e failwithf \"Expecting a Numeric but got a %A\" res.Type\n"]
          }
,
          {
           "cell_type": "markdown",
           "metadata": {},
           
           "source": ["## What if I commonly need an argument or result conversion that RProvider does not support?\n",
"\n",
"If you believe the argument conversion is universally appropriate and should be available to everybody, please fork the repo and submit a pull request.\n",
"\n",
"RProvider also supports custom conversions to/from your own data types using [plugins](plugins.html).\n",
"\n"]
          }],
            "metadata": {
            "kernelspec": {"display_name": ".NET (F#)", "language": "F#", "name": ".net-fsharp"},
            "langauge_info": {
        "file_extension": ".fs",
        "mimetype": "text/x-fsharp",
        "name": "C#",
        "pygments_lexer": "fsharp",
        "version": "4.5"
        }
        },
            "nbformat": 4,
            "nbformat_minor": 1
        }
        

