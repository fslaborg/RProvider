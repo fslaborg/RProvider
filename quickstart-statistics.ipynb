
        {
            "cells": [
          {
           "cell_type": "markdown",
           "metadata": {},
           
           "source": ["// can\u0027t yet format YamlFrontmatter ([\"category: Documentation\"; \"categoryindex: 1\"; \"index: 3\"], Some { StartLine = 2 StartColumn = 0 EndLine = 5 EndColumn = 8 }) to pynb markdown\n",
"\n"]
          }
,
          {
           "cell_type": "code",
           "metadata": {},
            "execution_count": null, "outputs": [], 
           "source": ["#r \"nuget: RProvider,{{package-version}}\"\n"]
          }
,
          {
           "cell_type": "markdown",
           "metadata": {},
           
           "source": ["# Quickstart: Using Statistical Packages\n",
"\n",
"R is a programming language designed for statistics and data mining.\n",
"The R community is strong, and created an incredibly rich open source\n",
"ecosystem of packages. \n",
"\n",
"The F# R Type Provider enables you to use every single one of them,\n",
"from within the F# environment. You can manipulate data using F#,\n",
"send it to R for computation, and extract back the results.\n",
"\n",
"## Example: Linear Regression\n",
"\n",
"Let\u0027s perform a simple linear regression from the F# interactive, \n",
"using the R.lm function.\n",
"\n",
"Assuming you installed the R Type Provider in your project from NuGet, \n",
"you can reference the required libraries and packages this way:\n",
"\n"]
          }
,
          {
           "cell_type": "code",
           "metadata": {},
            "execution_count": null, "outputs": [], 
           "source": ["#I \"../packages/RProvider.1.0.11\"\n",
"#load \"RProvider.fsx\"\n",
"\n",
"open RDotNet\n",
"open RProvider\n",
"open RProvider.Operators\n",
"\n",
"open RProvider.graphics\n",
"open RProvider.stats\n"]
          }
,
          {
           "cell_type": "markdown",
           "metadata": {},
           
           "source": ["Once the libraries and packages have been loaded, \n",
"Imagine that our true model is\n",
"\n",
"Y = 5.0 + 3.0 * X1 - 2.0 * X2 + noise\n",
"\n",
"Let\u0027s generate a fake dataset that follows this model:\n",
"\n"]
          }
,
          {
           "cell_type": "code",
           "metadata": {},
            "execution_count": null, "outputs": [], 
           "source": ["// Random number generator\n",
"let rng = System.Random()\n",
"let rand () = rng.NextDouble()\n",
"\n",
"// Generate fake X1 and X2 \n",
"let X1s = [ for i in 0 .. 9 -\u003e 10. * rand () ]\n",
"let X2s = [ for i in 0 .. 9 -\u003e 5. * rand () ]\n",
"\n",
"// Build Ys, following the \"true\" model\n",
"let Ys = [ for i in 0 .. 9 -\u003e 5. + 3. * X1s.[i] - 2. * X2s.[i] + rand () ]\n"]
          }
,
          {
           "cell_type": "markdown",
           "metadata": {},
           
           "source": ["Using linear regression on this dataset, we should be able to \n",
"estimate the coefficients 5.0, 3.0 and -2.0, with some imprecision\n",
"due to the \"noise\" part.\n",
"\n",
"Let\u0027s first put our dataset into a R dataframe; this allows us\n",
"to name our vectors, and use these names in R formulas afterwards:\n",
"\n"]
          }
,
          {
           "cell_type": "code",
           "metadata": {},
            "execution_count": null, "outputs": [], 
           "source": ["let dataset = [ \n",
"    \"Y\" =\u003e Ys\n",
"    \"X1\" =\u003e X1s\n",
"    \"X2\" =\u003e X2s ] |\u003e R.data_frame\n"]
          }
,
          {
           "cell_type": "markdown",
           "metadata": {},
           
           "source": ["We can now use R to perform a linear regression.\n",
"We call the [R.lm function](http://stat.ethz.ch/R-manual/R-patched/library/stats/html/lm.html),\n",
"passing it the formula we want to estimate. \n",
"(See the [R manual on formulas](http://stat.ethz.ch/R-manual/R-patched/library/stats/html/formula.html) \n",
"for more on their somewhat esoteric construction) \n",
"\n"]
          }
,
          {
           "cell_type": "code",
           "metadata": {},
            "execution_count": null, "outputs": [], 
           "source": ["let result = R.lm(formula = \"Y~X1+X2\", data = dataset)\n"]
          }
,
          {
           "cell_type": "markdown",
           "metadata": {},
           
           "source": ["## Extracting Results from R to F#\n",
"\n",
"The result we get back from R is a R Expression. \n",
"The R Type Provider tries as much as possible to keep data\n",
"as R Expressions, rather than converting back-and-forth\n",
"between F# and R types. It limits translations \n",
"between the 2 languages, which has performance benefits, \n",
"and simplifies composing R operations. On the other hand, \n",
"we need to extract the results from the R expression \n",
"into F# types.\n",
"\n",
"The [R docs for lm](http://stat.ethz.ch/R-manual/R-patched/library/stats/html/lm.html) \n",
"describes what R.lm returns: a R List. We can now retrieve each element, \n",
"accessing it by name (as defined in the documentation). \n",
"For instance, let\u0027s retrieve the coefficients and residuals, \n",
"which are both R vectors containg floats:\n",
"\n"]
          }
,
          {
           "cell_type": "code",
           "metadata": {},
            "execution_count": null, "outputs": [], 
           "source": ["let coefficients = result.AsList().[\"coefficients\"].AsNumeric()\n",
"let residuals = result.AsList().[\"residuals\"].AsNumeric()\n"]
          }
,
          {
           "cell_type": "markdown",
           "metadata": {},
           
           "source": ["We can also produce summary statistics about our model,\n",
"like R^2, which measures goodness-of-fit - close to 0\n",
"indicates a very poor fit, and close to 1 a good fit.\n",
"See [R docs for the details on Summary](http://stat.ethz.ch/R-manual/R-patched/library/stats/html/summary.lm.html).\n",
"\n"]
          }
,
          {
           "cell_type": "code",
           "metadata": {},
            "execution_count": null, "outputs": [], 
           "source": ["let summary = R.summary(result)\n",
"summary.AsList().[\"r.squared\"].AsNumeric()\n"]
          }
,
          {
           "cell_type": "markdown",
           "metadata": {},
           
           "source": ["Finally, we can directly pass results, which is a R expression,\n",
"to R.plot, to produce some fancy charts describing our model:\n",
"\n"]
          }
,
          {
           "cell_type": "code",
           "metadata": {},
            "execution_count": null, "outputs": [], 
           "source": ["R.plot result\n"]
          }
,
          {
           "cell_type": "markdown",
           "metadata": {},
           
           "source": ["That\u0027s it - while simple, we hope this example illustrate\n",
"how you would go about to use any existing R statistical package. \n",
"While the details would differ, the general approach would\n",
"remain the same. Happy modelling!\n",
"\n"]
          }],
            "metadata": {
            "kernelspec": {"display_name": ".NET (F#)", "language": "F#", "name": ".net-fsharp"},
            "langauge_info": {
        "file_extension": ".fs",
        "mimetype": "text/x-fsharp",
        "name": "C#",
        "pygments_lexer": "fsharp",
        "version": "4.5"
        }
        },
            "nbformat": 4,
            "nbformat_minor": 1
        }
        

