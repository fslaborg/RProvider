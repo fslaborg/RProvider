
        {
            "cells": [
          {
           "cell_type": "markdown",
           "metadata": {},
           
           "source": ["// can\u0027t yet format YamlFrontmatter ([\"category: Documentation\"; \"categoryindex: 1\"; \"index: 3\"], Some { StartLine = 2 StartColumn = 0 EndLine = 5 EndColumn = 8 }) to pynb markdown\n",
"\n"]
          }
,
          {
           "cell_type": "code",
           "metadata": {},
            "execution_count": null, "outputs": [], 
           "source": ["#r \"nuget: RProvider,{{package-version}}\"\n"]
          }
,
          {
           "cell_type": "markdown",
           "metadata": {},
           
           "source": ["# Quickstart: Creating Charts\n",
"\n",
"One of the compelling features of R is its ability to create beautiful charts.\n",
"With the R Type Provider, you can use all of R capabilities from F#, \n",
"and create simple charts quickly to explore and visualize your data on-the-fly, \n",
"as well as generate publication quality graphics that can be exported to virtually any format.\n",
"\n",
"## Charts Basics\n",
"\n",
"Basic charts can be found in the graphics package.\n",
"Assuming you are using an F# script, \n",
"you can reference the required libraries and packages this way:\n",
"\n",
"    [lang=fsharp]\n",
"    #r \"nuget: RProvider,2.0.2\"\n",
"\n"]
          }
,
          {
           "cell_type": "code",
           "metadata": {},
            "execution_count": null, "outputs": [], 
           "source": ["open RProvider\n",
"open RProvider.Operators\n",
"open RProvider.graphics\n"]
          }
,
          {
           "cell_type": "markdown",
           "metadata": {},
           
           "source": ["Once the libraries and packages have been loaded, \n",
"producing basic charts is as simple as this:\n",
"\n"]
          }
,
          {
           "cell_type": "code",
           "metadata": {},
            "execution_count": null, "outputs": [], 
           "source": ["let widgets = [ 3; 8; 12; 15; 19; 18; 18; 20; ]\n",
"let sprockets = [ 5; 4; 6; 7; 12; 9; 5; 6; ]\n"]
          }
,
          {
           "cell_type": "code",
           "metadata": {},
            "execution_count": null, "outputs": [], 
           "source": ["R.plot(widgets)\n",
"\n",
"R.plot(widgets, sprockets)\n",
"\n",
"R.barplot(widgets)\n",
"\n",
"R.hist(sprockets)\n",
"\n",
"R.pie(widgets)\n"]
          }
,
          {
           "cell_type": "markdown",
           "metadata": {},
           
           "source": ["## Exporting and Saving Charts\n",
"\n",
"Charts can be exported and saved to various formats; \n",
"once you have opened the grDevices package, you can save a chart like this:\n",
"\n"]
          }
,
          {
           "cell_type": "code",
           "metadata": {},
            "execution_count": null, "outputs": [], 
           "source": ["// Required package to save charts\n",
"open RProvider.grDevices\n",
"\n",
"// Create path to an image testimage.png on the Desktop\n",
"let desktop = System.Environment.GetFolderPath(System.Environment.SpecialFolder.Desktop)  \n",
"let path = desktop + @\"\\testimage.png\"\n",
"\n",
"// Open the device and create the file as a png.\n",
"// R.bmp, R.jpeg, R.pdf, ... will generate other formats.\n",
"R.png(filename=path, height=200, width=300, bg=\"white\")\n",
"// Create the chart into the file\n",
"R.barplot(widgets)\n",
"// Close the device once the chart is complete\n",
"R.dev_off ()\n"]
          }
,
          {
           "cell_type": "markdown",
           "metadata": {},
           
           "source": ["## Advanced Charts Options\n",
"\n",
"The graphic functions exposed by the R Type Provider come in two flavors; \n",
"they either have optional named arguments, \n",
"followed by a ParamArray for extended arguments, \n",
"or they take named parameters, an IDictionary\u003cstring,object\u003e \n",
"which contains all the arguments passed to the function.\n",
"\n",
"### Named Arguments\n",
"\n",
"Consider for instance the following example:\n",
"\n"]
          }
,
          {
           "cell_type": "code",
           "metadata": {},
            "execution_count": null, "outputs": [], 
           "source": ["R.barplot(widgets)\n",
"R.title(main=\"Widgets\", xlab=\"Period\", ylab=\"Quantity\")\n"]
          }
,
          {
           "cell_type": "markdown",
           "metadata": {},
           
           "source": ["R.title has 2 signatures, one of them with optional arguments, \n",
"demonstrated above to set the main title as well as the labels for the x and y axis, \n",
"ignoring some of the other available options. \n",
"You can see another example in the previous section in the R.png call.\n",
"\n",
"### Named Parameters\n",
"\n",
"Named parameters allow you to specify every argument supported by R, \n",
"as an IDictionary of string, object. \n",
"The string is the name of the argument, and the object its value.\n",
"\n",
"Finding the available arguments for a R function can be tricky;\n",
"the full list of arguments can usually be found in the \n",
"[R developer documentation](http://stat.ethz.ch/R-manual/R-devel/library/),\n",
"navigating in the correct package. For instance, R.plot belongs to\n",
"graphics, and can be found \n",
"[here](http://stat.ethz.ch/R-manual/R-devel/library/graphics/html/plot.html).\n",
"\n",
"The easiest way to use that feature is to \n",
"leverage the built-in function namedParams, like in this example:\n",
"\n"]
          }
,
          {
           "cell_type": "code",
           "metadata": {},
            "execution_count": null, "outputs": [], 
           "source": ["R.plot([\n",
"    \"x\" =\u003e widgets\n",
"    \"type\" =\u003e \"o\"\n",
"    \"col\" =\u003e \"blue\"\n",
"    \"ylim\" =\u003e [0; 25] ])\n",
"\n",
"R.lines([\n",
"    \"x\" =\u003e sprockets\n",
"    \"type\" =\u003e \"o\"\n",
"    \"pch\" =\u003e 22\n",
"    \"lty\" =\u003e 2\n",
"    \"col\" =\u003e \"red\" ])\n"]
          }
,
          {
           "cell_type": "markdown",
           "metadata": {},
           
           "source": ["The first call specifies what to plot (widgets), \n",
"what type of line to use, the color, and the scale of the axis. \n",
"The second call adds sprockets, specifying lty (the line type), \n",
"and pch (the plotting character).\n",
"\n",
"box is used to reduce all elements to objects, \n",
"so that the lists have consistent types.\n",
"\n",
"A possibly more elegant way to use namedParams is to follow the pattern below:\n",
"\n"]
          }
,
          {
           "cell_type": "code",
           "metadata": {},
            "execution_count": null, "outputs": [], 
           "source": ["[   \n",
"    \"x\" =\u003e widgets\n",
"    \"type\" =\u003e \"o\"\n",
"    \"col\" =\u003e \"blue\"\n",
"    \"ylim\" =\u003e [0; 25] ]\n",
"|\u003e R.plot\n",
"\n",
"[   \n",
"    \"x\" =\u003e sprockets\n",
"    \"type\" =\u003e \"o\"\n",
"    \"pch\" =\u003e 22\n",
"    \"lty\" =\u003e 2\n",
"    \"col\" =\u003e \"red\" ]\n",
"|\u003e R.lines\n"]
          }],
            "metadata": {
            "kernelspec": {"display_name": ".NET (F#)", "language": "F#", "name": ".net-fsharp"},
            "langauge_info": {
        "file_extension": ".fs",
        "mimetype": "text/x-fsharp",
        "name": "C#",
        "pygments_lexer": "fsharp",
        "version": "4.5"
        }
        },
            "nbformat": 4,
            "nbformat_minor": 1
        }
        

