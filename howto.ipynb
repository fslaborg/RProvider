
        {
            "cells": [
          {
           "cell_type": "markdown",
           "metadata": {},
           
           "source": ["// can\u0027t yet format YamlFrontmatter ([\"category: Documentation\"; \"categoryindex: 1\"; \"index: 3\"], Some { StartLine = 1 StartColumn = 0 EndLine = 4 EndColumn = 8 }) to pynb markdown\n",
"\n",
"# How to\n",
"\n",
"## Printing R values to the console (F# interactive)\n",
"\n",
"Add this line to your script to tell F# interactive how to print out\n",
"the values of R objects:\n",
"\n",
"    [lang=fsharp]\n",
"    fsi.AddPrinter FSIPrinters.rValue\n",
"\n",
"## Packages\n",
"\n",
"### How do I Load a Package?\n",
"\n",
"RProvider discovers the packages installed in your R installation and makes them available as packages under the RProvider root namespace.  The actual package is lazily loaded the first time you access it.  \n",
"\n",
"### How do I install a new Package?\n",
"\n",
"Currently you need to load up a real R session, then install the package via install.packages, or the Packages/Install Packages... menu.  You will then need to restart Visual Studio because the set of installed packages is cached inside the RProvider.\n",
"\n",
"#### I have a package installed and it is not showing up\n",
"The most likely cause is that RProvider is using a different R installation from the one you updated.  When you install R, you get the option to update the registry key `HKEY_LOCAL_MACHINE\\SOFTWARE\\R-core` to point to the version you are installing.  This is what RProvider uses.  If you are running in a 32-bit process, RProvider uses `HKEY_LOCAL_MACHINE\\SOFTWARE\\R-core\\R\\InstallPath` to determine the path.  For 64-bit, it reads `HKEY_LOCAL_MACHINE\\SOFTWARE\\R-core\\R64\\InstallPath`.  When you install a package in a given version of R, it should be available in both the 32-bit and 64-bit versions.\n",
"\n",
"## Function and Package names\n",
"There are a couple of mismatches between allowed identifiers between R and F#:\n",
"### Dots in names\n",
"It is pretty common in R to use a dot character in a name, because the character has no special meaning.  We remap dots to underscore, and underscore to a double-underscore.  So for example, data.frame() becomes R.data_frame().\n",
"\n",
"### Names that are reserved F# keywords\n",
"Some package and function names are reserved words in F#.  For these, you will need to quote them using double-backquotes.  Typically, the IDE will do this for you.  A good example is the base package, which will require an open statement where \"base\" is double-back-quoted.\n",
"\n"]
          }],
            "metadata": {
            "kernelspec": {"display_name": ".NET (F#)", "language": "F#", "name": ".net-fsharp"},
            "langauge_info": {
        "file_extension": ".fs",
        "mimetype": "text/x-fsharp",
        "name": "C#",
        "pygments_lexer": "fsharp",
        "version": "4.5"
        }
        },
            "nbformat": 4,
            "nbformat_minor": 1
        }
        

