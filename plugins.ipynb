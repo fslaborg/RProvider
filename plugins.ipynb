
        {
            "cells": [
          {
           "cell_type": "markdown",
           "metadata": {},
           
           "source": ["// can\u0027t yet format YamlFrontmatter ([\"category: Developer\"; \"categoryindex: 2\"; \"index: 3\"], Some { StartLine = 1 StartColumn = 0 EndLine = 4 EndColumn = 8 }) to pynb markdown\n",
"\n",
"# Plugins\n",
"\n",
"RProvider supports plugins to support custom functionality.  It uses [MEF](http://msdn.microsoft.com/en-us/library/dd460648.aspx) to load plugins that export certain contracts.  See below for examples.\n",
"\n",
"Before implementing a plugin you should consider whether your conversion is universally applicable and should be added to the core conversion logic in the provider.  If so, please log as an issue, and ideally fork the repo and submit a pull request.\n",
"\n",
"## Supporting an implicit parameter conversion for a datatype \n",
"\n",
"## Supporting an explicit result conversion for a datatype\n",
"\n",
"## Supporting a default result conversion\n"]
          }],
            "metadata": {
            "kernelspec": {"display_name": ".NET (F#)", "language": "F#", "name": ".net-fsharp"},
            "langauge_info": {
        "file_extension": ".fs",
        "mimetype": "text/x-fsharp",
        "name": "C#",
        "pygments_lexer": "fsharp",
        "version": "4.5"
        }
        },
            "nbformat": 4,
            "nbformat_minor": 1
        }
        

