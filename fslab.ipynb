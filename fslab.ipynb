
        {
            "cells": [
          {
           "cell_type": "markdown",
           "metadata": {},
           
           "source": ["// can\u0027t yet format YamlFrontmatter ([\"category: Documentation\"; \"categoryindex: 1\"; \"index: 6\"], Some { StartLine = 2 StartColumn = 0 EndLine = 5 EndColumn = 8 }) to pynb markdown\n",
"\n"]
          }
,
          {
           "cell_type": "code",
           "metadata": {},
            "execution_count": null, "outputs": [], 
           "source": ["#r \"nuget: RProvider,{{package-version}}\"\n"]
          }
,
          {
           "cell_type": "markdown",
           "metadata": {},
           
           "source": ["Working with the FsLab ecosystem\n",
"===============================\n",
"\n",
"The R type provider is interoperable with other packages in\n",
"FsLab through its plugin architecture. Some examples are shown\n",
"below. If you would like to see better interoperability between\n",
"R and other FsLab packages, submit an issue to their repository\n",
"for the creation of an RProvider plugin.\n",
"\n",
"### Deedle - data frame manipulation\n",
"\n",
"Deedle provides types for F# data frame and time series manipulation.\n",
"To use with RProvider, first install the Deedle.RPlugin package from\n",
"nuget; once this is installed, you do not need to reference it in your\n",
"script files.\n",
"\n"]
          }
,
          {
           "cell_type": "code",
           "metadata": {},
            "execution_count": null, "outputs": [], 
           "source": ["#r \"nuget:Deedle.RPlugin\"\n"]
          }
,
          {
           "cell_type": "markdown",
           "metadata": {},
           
           "source": ["In a new F# script file, first open Deedle and RProvider: \n",
"\n",
"    [lang=fsharp]\n",
"    #r \"nuget:RProvider\"\n",
"\n"]
          }
,
          {
           "cell_type": "code",
           "metadata": {},
            "execution_count": null, "outputs": [], 
           "source": ["#r \"nuget:Deedle\"\n",
"\n",
"open RProvider\n",
"open RProvider.``base``\n",
"open RProvider.datasets\n",
"open Deedle\n"]
          }
,
          {
           "cell_type": "markdown",
           "metadata": {},
           
           "source": ["The Deedle R plugin should be loaded by the R type provider automatically.\n",
"You can now convert back and forth between R data frames and Deedle frames\n",
"by using type annotations:\n",
"\n"]
          }
,
          {
           "cell_type": "code",
           "metadata": {},
            "execution_count": null, "outputs": [], 
           "source": ["let mtcars : Frame\u003cstring, string\u003e = R.mtcars.GetValue()\n",
"\n",
"// Pass Deedle data to R and print the R output\n",
"R.as_data_frame(mtcars)\n",
"\n",
"// Pass Deedle data to R and get column means\n",
"R.colMeans(mtcars)\n"]
          }],
            "metadata": {
            "kernelspec": {"display_name": ".NET (F#)", "language": "F#", "name": ".net-fsharp"},
            "langauge_info": {
        "file_extension": ".fs",
        "mimetype": "text/x-fsharp",
        "name": "C#",
        "pygments_lexer": "fsharp",
        "version": "4.5"
        }
        },
            "nbformat": 4,
            "nbformat_minor": 1
        }
        

