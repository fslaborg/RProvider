
        {
            "cells": [
          {
           "cell_type": "markdown",
           "metadata": {},
           
           "source": ["// can\u0027t yet format YamlFrontmatter ([\"category: Documentation\"; \"categoryindex: 1\"; \"index: 5\"], Some { StartLine = 2 StartColumn = 0 EndLine = 5 EndColumn = 8 }) to pynb markdown\n",
"\n"]
          }
,
          {
           "cell_type": "code",
           "metadata": {},
            "execution_count": null, "outputs": [], 
           "source": ["#r \"nuget: RProvider,{{package-version}}\"\n"]
          }
,
          {
           "cell_type": "markdown",
           "metadata": {},
           
           "source": ["Reading and writing RData files\n",
"===============================\n",
"\n",
"When using R, you can save and load data sets as `*.rdata` files. These can be easily\n",
"exported and consumed using the R provider too, so if you want to perform part of your\n",
"data acquisition, analysis and visualization using F# and another part using R, you \n",
"can easily pass the data between F# and R as `*.rdata` files.\n",
"\n",
"Passing data from R to F#\n",
"-------------------------\n",
"\n",
"Let\u0027s say that you have some data in R and want to pass them to F#. To do that, you\n",
"can use the `save` function in R. The following R snippet creates a simple `*.rdata`\n",
"file containing a couple of symbols from the sample `volcano` data set:\n",
"\n",
"    [lang=text]\n",
"    require(datasets)\n",
"    volcanoList \u003c- unlist(as.list(volcano))\n",
"    volcanoMean \u003c- mean(volcanoList)\n",
"    symbols \u003c- c(\"volcano\", \"volcanoList\", \"volcanoMean\")\n",
"    save(list=symols, file=\"C:/data/sample.rdata\")\n",
"\n",
"To import the data on the F# side, you can use the `RData` type provider that is\n",
"available in the `RProvider` namespace. It takes a static parameter specifying the\n",
"path of the file (absolute or relative) and generates a type that exposes all the\n",
"saved values as static members:\n",
"\n"]
          }
,
          {
           "cell_type": "code",
           "metadata": {},
            "execution_count": null, "outputs": [], 
           "source": ["open RProvider\n",
"\n",
"type Sample = RData\u003c\"data/sample.rdata\"\u003e\n",
"let sample = Sample()\n",
"\n",
"// Easily access saved values\n",
"sample.volcano\n",
"sample.volcanoList\n",
"sample.volcanoMean\n"]
          }
,
          {
           "cell_type": "markdown",
           "metadata": {},
           
           "source": ["When accessed, the type provider automatically converts the data from the R format\n",
"to F# format. In the above example, `volcanoList` is imported as `float[]` and\n",
"the `volcanoMean` value is a singleton array. (The provider does not detect that \n",
"this is a singleton, so you can get the value using `sample.volcanoMean.[0]`).\n",
"For the `sample.volcano` value, the R provider does not have a default conversion\n",
"and so it is exposed as `SymbolicExpression`. \n",
"\n",
"When you have a number of `*.rdata` files containing data in the same format, you can\n",
"pick one of them as a sample (which will be used to determine the fields of the type)\n",
"and then pass the file name to the constructor of the generated type to load it.\n",
"For example, if we had files `data/sample_1.rdata` to `data/sample_10.rdata`, we could\n",
"read them as:\n",
"\n"]
          }
,
          {
           "cell_type": "code",
           "metadata": {},
            "execution_count": null, "outputs": [], 
           "source": ["let means = \n",
"  [ for i in 1 .. 10 -\u003e\n",
"      let data = Sample(sprintf \"data/sample_%d.rdata\" i)\n",
"      data.volcanoMean.[0] ]\n"]
          }
,
          {
           "cell_type": "markdown",
           "metadata": {},
           
           "source": ["Note that the default conversions available depend on the plugins that are currently\n",
"available. For example, when you install the enrie [FsLab](http://www.fslab.org) package\n",
"with the [Deedle](https://fslab.org/Deedle/) library, the `RData` \n",
"provider will automatically expose data frames as Deedle `Frame\u003cstring, string\u003e` values.\n",
"\n",
"Passing data from F# to R\n",
"-------------------------\n",
"\n",
"If you perform data acquisition in F# and then want to pass the data to R, you \n",
"can use the standard R functions for saving the `*.rdata` files. The easiest \n",
"option is to call the `R.assign` function to define named values in the R environment\n",
"and then use `R.save` to save the environment to a file:\n",
"\n"]
          }
,
          {
           "cell_type": "code",
           "metadata": {},
            "execution_count": null, "outputs": [], 
           "source": ["// Calculate sum of square differences\n",
"let avg = sample.volcanoList |\u003e Array.average\n",
"let sqrs = \n",
"  sample.volcanoList \n",
"  |\u003e Array.map (fun v -\u003e pown (v - avg) 2)\n",
"\n",
"// Save the squares to an RData file\n",
"R.assign(\"volcanoDiffs\", sqrs)\n",
"R.save(list=[ \"volcanoDiffs\" ], file=\"C:/temp/volcano.rdata\")\n"]
          }
,
          {
           "cell_type": "markdown",
           "metadata": {},
           
           "source": ["It is recommended to use the `list` parameter of the `save` function to specify the\n",
"names of the symbols that should be saved, rather than saving *all* symbols. The R\n",
"provider uses additional temporary symbols and so the saved file would otherwise contain\n",
"unnecessary fileds.\n",
"\n",
"Once you save the file using the above command, you can re-load it again using\n",
"the `RData` type provider, such as: `new RData\u003c\"C:/temp/volcano.rdata\"\u003e()`.\n",
"\n"]
          }],
            "metadata": {
            "kernelspec": {"display_name": ".NET (F#)", "language": "F#", "name": ".net-fsharp"},
            "langauge_info": {
        "file_extension": ".fs",
        "mimetype": "text/x-fsharp",
        "name": "C#",
        "pygments_lexer": "fsharp",
        "version": "4.5"
        }
        },
            "nbformat": 4,
            "nbformat_minor": 1
        }
        

