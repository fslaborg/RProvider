
        {
            "cells": [
          {
           "cell_type": "markdown",
           "metadata": {},
           
           "source": ["// can\u0027t yet format YamlFrontmatter ([\"category: Developer\"; \"categoryindex: 2\"; \"index: 3\"], Some { StartLine = 1 StartColumn = 0 EndLine = 4 EndColumn = 8 }) to pynb markdown\n",
"\n",
"# How does it work?\n",
"\n",
"## How do we call into R?\n",
"The RProvider loads the R.DLL (which contains the core of R) into the calling process, via [RDotNet](http://rdotnet.codeplex.com/).  This will happen in several places:\n",
"\n",
"* In the IDE, to provide IntelliSense for packages/functions/parameters.\n",
"* In the F# compiler, to generate code that calls the R functionality you are calling.\n",
"* In your resulting binary, to execute the generated code.\n",
"* In F# Interactive, to do all of the above interactively.\n",
"\n",
"## How does RDotNet help?\n",
"RDotNet allows R functionality to be called from .NET, and exposes an object model for representing R values (based on the type RDotNet.SymbolExpression).  Using RDotNet, one executes R code by passing strings of R code into an Evaluate method.  From the RProvider, we introspect on available R packages and functions and expose them as members of provided types.  You can then call them just like regular .NET functions, with IntelliSense and compile-time checking.  RDotNet.SymbolicExpression provides a nice OO model of the R native SEXP type, so we simply expose results using that type.  To make it more friendly from F#, we extend it with some extension members and active patterns.\n",
"\n",
"## How do we expose R packages?\n",
"RProvider determines the set of installed packages in your R installation and exposes them as namespaces under the root RProvider namespace.  This allows you to \u0027open\u0027 the namespaces you want to use as if they were regular .NET namespaces.\n",
"\n",
"Under the namespace for a given package, RProvider exposes a single static type called \"R\", which contains static methods mirroring each of the functions and values that exist in the package.  This means that the members under \"R.\" will be the union of available functions in all of the package namespaces you have opened.\n",
"\n",
"## Is it Statically Typed?\n",
"Kind of.  It is statically type checked to the extent that it can be given the type information available from R.  In practice, this means that the F# compiler and IDE statically checks that the function you are calling exists in the package you are calling.  In some cases, we can also determine that you are not passing too many arguments to the function, though common use of ... (aka varargs/params) in R functions defeats that in many cases.\n",
"\n",
"R is dynamically typed, so we cannot determine what the types of function arguments are supposed to be.  So all arguments are of type obj.  R functions can also be written such that they will work even if arguments that do not have default values are omitted, so we expose each argument as optional.  And for R functions that accept a ... argument, we expose a paramarray argument that allows any number of additional arguments to be passed.  In that case, you can basically pass any number of arguments to the function.\n"]
          }],
            "metadata": {
            "kernelspec": {"display_name": ".NET (F#)", "language": "F#", "name": ".net-fsharp"},
            "langauge_info": {
        "file_extension": ".fs",
        "mimetype": "text/x-fsharp",
        "name": "C#",
        "pygments_lexer": "fsharp",
        "version": "4.5"
        }
        },
            "nbformat": 4,
            "nbformat_minor": 1
        }
        

